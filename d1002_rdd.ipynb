{
 "cells": [
  {
   "cell_type": "markdown",
   "id": "2006acca",
   "metadata": {},
   "source": [
    "# 创建RDD"
   ]
  },
  {
   "cell_type": "markdown",
   "id": "64fcc863",
   "metadata": {},
   "source": [
    "创建RDD主要有两种方式，一个是textFile加载本地或者集群文件系统中的数据，\n",
    "\n",
    "第二个是用parallelize方法将Driver中的数据结构并行化成RDD。"
   ]
  },
  {
   "cell_type": "code",
   "execution_count": 1,
   "id": "f88e8281",
   "metadata": {},
   "outputs": [],
   "source": [
    "import findspark\n",
    "\n",
    "#指定spark_home为刚才的解压路径,指定python路径\n",
    "spark_home = \"D:/Install/Spark3/spark-3.0.0-bin-hadoop3.2\"\n",
    "#python对应虚拟环境中解释器\n",
    "python_path = \"D:/Install/Anaconda/envs/xpyspark/python\"\n",
    "findspark.init(spark_home,python_path)"
   ]
  },
  {
   "cell_type": "code",
   "execution_count": 2,
   "id": "79873742",
   "metadata": {},
   "outputs": [
    {
     "name": "stdout",
     "output_type": "stream",
     "text": [
      "3.0.0\n"
     ]
    }
   ],
   "source": [
    "import pyspark \n",
    "from pyspark import SparkContext, SparkConf\n",
    "conf = SparkConf().setAppName(\"rdd_tutorial\").setMaster(\"local[4]\")\n",
    "sc = SparkContext(conf=conf)\n",
    "\n",
    "print(pyspark.__version__)"
   ]
  },
  {
   "cell_type": "markdown",
   "id": "de90fff6",
   "metadata": {},
   "source": [
    "## textFile"
   ]
  },
  {
   "cell_type": "code",
   "execution_count": 3,
   "id": "415fd668",
   "metadata": {},
   "outputs": [
    {
     "data": {
      "text/plain": [
       "['parterner will coming soon', '', 'I will go to china']"
      ]
     },
     "execution_count": 3,
     "metadata": {},
     "output_type": "execute_result"
    }
   ],
   "source": [
    "#从本地文件系统中加载数据\n",
    "file = \"./data/hello.txt\"\n",
    "rdd = sc.textFile(file,3)\n",
    "rdd.collect()"
   ]
  },
  {
   "cell_type": "code",
   "execution_count": 4,
   "id": "15919aee",
   "metadata": {},
   "outputs": [],
   "source": [
    "#从集群文件系统中加载数据\n",
    "#file = \"hdfs://hadoop101:9870/input/word.txt\"\n",
    "# 也可以省去hdfs://localhost:9000\n",
    "#rdd = sc.textFile(file,3)"
   ]
  },
  {
   "cell_type": "code",
   "execution_count": null,
   "id": "d5ca0537",
   "metadata": {},
   "outputs": [],
   "source": []
  },
  {
   "cell_type": "markdown",
   "id": "746e8fc9",
   "metadata": {},
   "source": [
    "## parallelize"
   ]
  },
  {
   "cell_type": "code",
   "execution_count": 5,
   "id": "f71b96f6",
   "metadata": {},
   "outputs": [
    {
     "data": {
      "text/plain": [
       "[1, 2, 3, 4, 5, 6, 7, 8, 9, 10]"
      ]
     },
     "execution_count": 5,
     "metadata": {},
     "output_type": "execute_result"
    }
   ],
   "source": [
    "#parallelize将Driver中的数据结构生成RDD,第二个参数指定分区数\n",
    "rdd = sc.parallelize(range(1,11),2)\n",
    "rdd.collect()"
   ]
  },
  {
   "cell_type": "code",
   "execution_count": null,
   "id": "2bf16652",
   "metadata": {},
   "outputs": [],
   "source": []
  },
  {
   "cell_type": "markdown",
   "id": "a04ae847",
   "metadata": {},
   "source": [
    "# 常用Action操作"
   ]
  },
  {
   "cell_type": "markdown",
   "id": "de4474a3",
   "metadata": {},
   "source": [
    "Action操作将触发基于RDD依赖关系的计算。"
   ]
  },
  {
   "cell_type": "markdown",
   "id": "a2923b42",
   "metadata": {},
   "source": [
    "## collect"
   ]
  },
  {
   "cell_type": "code",
   "execution_count": null,
   "id": "379de499",
   "metadata": {},
   "outputs": [],
   "source": [
    "rdd = sc.parallelize(range(10),5) "
   ]
  },
  {
   "cell_type": "code",
   "execution_count": 6,
   "id": "04ff5a53",
   "metadata": {},
   "outputs": [
    {
     "data": {
      "text/plain": [
       "[1, 2, 3, 4, 5, 6, 7, 8, 9, 10]"
      ]
     },
     "execution_count": 6,
     "metadata": {},
     "output_type": "execute_result"
    }
   ],
   "source": [
    "#collect操作将数据汇集到Driver,数据过大时有超内存风险\n",
    "all_data = rdd.collect()\n",
    "all_data"
   ]
  },
  {
   "cell_type": "code",
   "execution_count": null,
   "id": "85403937",
   "metadata": {},
   "outputs": [],
   "source": []
  },
  {
   "cell_type": "markdown",
   "id": "92da7145",
   "metadata": {},
   "source": [
    "## take"
   ]
  },
  {
   "cell_type": "code",
   "execution_count": 7,
   "id": "1771c406",
   "metadata": {},
   "outputs": [
    {
     "data": {
      "text/plain": [
       "[0, 1, 2, 3]"
      ]
     },
     "execution_count": 7,
     "metadata": {},
     "output_type": "execute_result"
    }
   ],
   "source": [
    "#take操作将前若干个数据汇集到Driver，相比collect安全\n",
    "rdd = sc.parallelize(range(10),5) \n",
    "part_data = rdd.take(4)\n",
    "part_data"
   ]
  },
  {
   "cell_type": "code",
   "execution_count": null,
   "id": "8a3d9f8e",
   "metadata": {},
   "outputs": [],
   "source": []
  },
  {
   "cell_type": "markdown",
   "id": "55dd0510",
   "metadata": {},
   "source": [
    "## takeSample"
   ]
  },
  {
   "cell_type": "code",
   "execution_count": 8,
   "id": "b9b9c093",
   "metadata": {},
   "outputs": [
    {
     "data": {
      "text/plain": [
       "[7, 8, 1, 5, 3, 4, 2, 0, 9, 6]"
      ]
     },
     "execution_count": 8,
     "metadata": {},
     "output_type": "execute_result"
    }
   ],
   "source": [
    "#takeSample可以随机取若干个到Driver,第一个参数设置是否放回抽样\n",
    "rdd = sc.parallelize(range(10),5) \n",
    "sample_data = rdd.takeSample(False,10,0)\n",
    "sample_data"
   ]
  },
  {
   "cell_type": "code",
   "execution_count": null,
   "id": "e083bb36",
   "metadata": {},
   "outputs": [],
   "source": []
  },
  {
   "cell_type": "markdown",
   "id": "db247c20",
   "metadata": {},
   "source": [
    "## first"
   ]
  },
  {
   "cell_type": "code",
   "execution_count": 9,
   "id": "0284819e",
   "metadata": {},
   "outputs": [
    {
     "name": "stdout",
     "output_type": "stream",
     "text": [
      "0\n"
     ]
    }
   ],
   "source": [
    "#first取第一个数据\n",
    "rdd = sc.parallelize(range(10),5) \n",
    "first_data = rdd.first()\n",
    "print(first_data)"
   ]
  },
  {
   "cell_type": "code",
   "execution_count": null,
   "id": "038a3118",
   "metadata": {},
   "outputs": [],
   "source": []
  },
  {
   "cell_type": "markdown",
   "id": "a157c19f",
   "metadata": {},
   "source": [
    "## count"
   ]
  },
  {
   "cell_type": "code",
   "execution_count": 10,
   "id": "13d93857",
   "metadata": {},
   "outputs": [
    {
     "name": "stdout",
     "output_type": "stream",
     "text": [
      "10\n"
     ]
    }
   ],
   "source": [
    "#count查看RDD元素数量\n",
    "rdd = sc.parallelize(range(10),5)\n",
    "data_count = rdd.count()\n",
    "print(data_count)"
   ]
  },
  {
   "cell_type": "code",
   "execution_count": null,
   "id": "ee24cb1d",
   "metadata": {},
   "outputs": [],
   "source": []
  },
  {
   "cell_type": "markdown",
   "id": "3c398f39",
   "metadata": {},
   "source": [
    "## reduce"
   ]
  },
  {
   "cell_type": "code",
   "execution_count": 11,
   "id": "abec466c",
   "metadata": {},
   "outputs": [
    {
     "data": {
      "text/plain": [
       "45"
      ]
     },
     "execution_count": 11,
     "metadata": {},
     "output_type": "execute_result"
    }
   ],
   "source": [
    "#reduce利用二元函数对数据进行规约\n",
    "rdd = sc.parallelize(range(10),5) \n",
    "rdd.reduce(lambda x,y:x+y)"
   ]
  },
  {
   "cell_type": "code",
   "execution_count": null,
   "id": "8b7c1c28",
   "metadata": {},
   "outputs": [],
   "source": []
  },
  {
   "cell_type": "markdown",
   "id": "cb9092d8",
   "metadata": {},
   "source": [
    "## foreach"
   ]
  },
  {
   "cell_type": "code",
   "execution_count": 12,
   "id": "8a30f5bd",
   "metadata": {},
   "outputs": [
    {
     "name": "stdout",
     "output_type": "stream",
     "text": [
      "45\n"
     ]
    }
   ],
   "source": [
    "#foreach对每一个元素执行某种操作，不生成新的RDD\n",
    "#累加器用法详见共享变量\n",
    "rdd = sc.parallelize(range(10),5) \n",
    "accum = sc.accumulator(0)\n",
    "rdd.foreach(lambda x:accum.add(x))\n",
    "print(accum.value)"
   ]
  },
  {
   "cell_type": "code",
   "execution_count": null,
   "id": "4319727a",
   "metadata": {},
   "outputs": [],
   "source": []
  },
  {
   "cell_type": "markdown",
   "id": "c56f97f4",
   "metadata": {},
   "source": [
    "## countByKey"
   ]
  },
  {
   "cell_type": "code",
   "execution_count": 13,
   "id": "9965ae63",
   "metadata": {},
   "outputs": [
    {
     "data": {
      "text/plain": [
       "defaultdict(int, {1: 2, 3: 1, 2: 1})"
      ]
     },
     "execution_count": 13,
     "metadata": {},
     "output_type": "execute_result"
    }
   ],
   "source": [
    "#countByKey对Pair RDD按key统计数量\n",
    "pairRdd = sc.parallelize([(1,1),(1,4),(3,9),(2,16)]) \n",
    "pairRdd.countByKey()"
   ]
  },
  {
   "cell_type": "code",
   "execution_count": null,
   "id": "f9c222ee",
   "metadata": {},
   "outputs": [],
   "source": []
  },
  {
   "cell_type": "markdown",
   "id": "180b5c34",
   "metadata": {},
   "source": [
    "## saveAsTextFile"
   ]
  },
  {
   "cell_type": "code",
   "execution_count": null,
   "id": "6a2370c7",
   "metadata": {},
   "outputs": [],
   "source": [
    "#saveAsTextFile保存rdd成text文件到本地   \n",
    "# 需要hadoop环境\n",
    "text_file = \"./data/num.txt\"\n",
    "rdd = sc.parallelize(range(5))\n",
    "rdd.saveAsTextFile(text_file)"
   ]
  },
  {
   "cell_type": "code",
   "execution_count": null,
   "id": "590257c6",
   "metadata": {},
   "outputs": [],
   "source": [
    "#重新读入会被解析文本\n",
    "rdd_loaded = sc.textFile(text_file)\n",
    "rdd_loaded.collect()"
   ]
  },
  {
   "cell_type": "markdown",
   "id": "00824f7a",
   "metadata": {},
   "source": [
    "# 常用Transformation操作"
   ]
  },
  {
   "cell_type": "markdown",
   "id": "090833f4",
   "metadata": {},
   "source": [
    "Transformation转换操作具有懒惰执行的特性，它只指定新的RDD和其父RDD的依赖关系，只有当Action操作触发到该依赖的时候，它才被计算。"
   ]
  },
  {
   "cell_type": "markdown",
   "id": "d84c2867",
   "metadata": {},
   "source": [
    "## map"
   ]
  },
  {
   "cell_type": "code",
   "execution_count": 25,
   "id": "b7faacfc",
   "metadata": {},
   "outputs": [
    {
     "data": {
      "text/plain": [
       "[0, 1, 2, 3, 4, 5, 6, 7, 8, 9]"
      ]
     },
     "execution_count": 25,
     "metadata": {},
     "output_type": "execute_result"
    }
   ],
   "source": [
    "#map操作对每个元素进行一个映射转换\n",
    "rdd = sc.parallelize(range(10),3)\n",
    "rdd.collect()"
   ]
  },
  {
   "cell_type": "code",
   "execution_count": 26,
   "id": "6083759b",
   "metadata": {},
   "outputs": [
    {
     "data": {
      "text/plain": [
       "[0, 1, 4, 9, 16, 25, 36, 49, 64, 81]"
      ]
     },
     "execution_count": 26,
     "metadata": {},
     "output_type": "execute_result"
    }
   ],
   "source": [
    "rdd.map(lambda x:x**2).collect()"
   ]
  },
  {
   "cell_type": "markdown",
   "id": "0b2099df",
   "metadata": {},
   "source": [
    "## filter"
   ]
  },
  {
   "cell_type": "code",
   "execution_count": 27,
   "id": "d1a48051",
   "metadata": {},
   "outputs": [
    {
     "data": {
      "text/plain": [
       "[6, 7, 8, 9]"
      ]
     },
     "execution_count": 27,
     "metadata": {},
     "output_type": "execute_result"
    }
   ],
   "source": [
    "#filter应用过滤条件过滤掉一些数据\n",
    "rdd = sc.parallelize(range(10),3)\n",
    "rdd.filter(lambda x:x>5).collect()"
   ]
  },
  {
   "cell_type": "markdown",
   "id": "99041af8",
   "metadata": {},
   "source": [
    "## flatMap"
   ]
  },
  {
   "cell_type": "code",
   "execution_count": 28,
   "id": "a6515a91",
   "metadata": {},
   "outputs": [
    {
     "data": {
      "text/plain": [
       "[['hello', 'world'], ['hello', 'China']]"
      ]
     },
     "execution_count": 28,
     "metadata": {},
     "output_type": "execute_result"
    }
   ],
   "source": [
    "#flatMap操作执行将每个元素生成一个Array后压平\n",
    "rdd = sc.parallelize([\"hello world\",\"hello China\"])\n",
    "rdd.map(lambda x:x.split(\" \")).collect()"
   ]
  },
  {
   "cell_type": "code",
   "execution_count": 29,
   "id": "b917c4f2",
   "metadata": {},
   "outputs": [
    {
     "data": {
      "text/plain": [
       "['hello', 'world', 'hello', 'China']"
      ]
     },
     "execution_count": 29,
     "metadata": {},
     "output_type": "execute_result"
    }
   ],
   "source": [
    "rdd.flatMap(lambda x:x.split(\" \")).collect()"
   ]
  },
  {
   "cell_type": "code",
   "execution_count": null,
   "id": "83acb695",
   "metadata": {},
   "outputs": [],
   "source": []
  },
  {
   "cell_type": "markdown",
   "id": "a8ae605f",
   "metadata": {},
   "source": [
    "## sample"
   ]
  },
  {
   "cell_type": "code",
   "execution_count": 30,
   "id": "266a5e8e",
   "metadata": {},
   "outputs": [
    {
     "data": {
      "text/plain": [
       "[1, 4, 9]"
      ]
     },
     "execution_count": 30,
     "metadata": {},
     "output_type": "execute_result"
    }
   ],
   "source": [
    "#sample对原rdd在每个分区按照比例进行抽样,第一个参数设置是否可以重复抽样\n",
    "rdd = sc.parallelize(range(10),1)\n",
    "rdd.sample(False,0.5,0).collect()"
   ]
  },
  {
   "cell_type": "code",
   "execution_count": null,
   "id": "d55f0658",
   "metadata": {},
   "outputs": [],
   "source": []
  },
  {
   "cell_type": "markdown",
   "id": "abb7d199",
   "metadata": {},
   "source": [
    "## distinct"
   ]
  },
  {
   "cell_type": "code",
   "execution_count": 31,
   "id": "548f4468",
   "metadata": {},
   "outputs": [
    {
     "data": {
      "text/plain": [
       "[4, 1, 5, 2, 3]"
      ]
     },
     "execution_count": 31,
     "metadata": {},
     "output_type": "execute_result"
    }
   ],
   "source": [
    "#distinct去重\n",
    "rdd = sc.parallelize([1,1,2,2,3,3,4,5])\n",
    "rdd.distinct().collect()"
   ]
  },
  {
   "cell_type": "code",
   "execution_count": null,
   "id": "d2e097c1",
   "metadata": {},
   "outputs": [],
   "source": []
  },
  {
   "cell_type": "markdown",
   "id": "5d2b9611",
   "metadata": {},
   "source": [
    "## subtract"
   ]
  },
  {
   "cell_type": "code",
   "execution_count": 32,
   "id": "e070d1d2",
   "metadata": {},
   "outputs": [
    {
     "data": {
      "text/plain": [
       "[0, 1, 2, 3, 4]"
      ]
     },
     "execution_count": 32,
     "metadata": {},
     "output_type": "execute_result"
    }
   ],
   "source": [
    "#subtract找到属于前一个rdd而不属于后一个rdd的元素\n",
    "a = sc.parallelize(range(10))\n",
    "b = sc.parallelize(range(5,15))\n",
    "a.subtract(b).collect()"
   ]
  },
  {
   "cell_type": "code",
   "execution_count": null,
   "id": "dbc046bc",
   "metadata": {},
   "outputs": [],
   "source": []
  },
  {
   "cell_type": "markdown",
   "id": "24bf7cd7",
   "metadata": {},
   "source": [
    "## union"
   ]
  },
  {
   "cell_type": "code",
   "execution_count": 33,
   "id": "59b2257c",
   "metadata": {},
   "outputs": [
    {
     "data": {
      "text/plain": [
       "[0, 1, 2, 3, 4, 3, 4, 5, 6, 7]"
      ]
     },
     "execution_count": 33,
     "metadata": {},
     "output_type": "execute_result"
    }
   ],
   "source": [
    "#union合并数据\n",
    "a = sc.parallelize(range(5))\n",
    "b = sc.parallelize(range(3,8))\n",
    "a.union(b).collect()"
   ]
  },
  {
   "cell_type": "code",
   "execution_count": null,
   "id": "f208c124",
   "metadata": {},
   "outputs": [],
   "source": []
  },
  {
   "cell_type": "markdown",
   "id": "77a8c22d",
   "metadata": {},
   "source": [
    "## intersection"
   ]
  },
  {
   "cell_type": "code",
   "execution_count": 34,
   "id": "939510c9",
   "metadata": {},
   "outputs": [
    {
     "data": {
      "text/plain": [
       "[3, 4, 5]"
      ]
     },
     "execution_count": 34,
     "metadata": {},
     "output_type": "execute_result"
    }
   ],
   "source": [
    "#intersection求交集\n",
    "a = sc.parallelize(range(1,6))\n",
    "b = sc.parallelize(range(3,9))\n",
    "a.intersection(b).collect()"
   ]
  },
  {
   "cell_type": "code",
   "execution_count": null,
   "id": "f41d35eb",
   "metadata": {},
   "outputs": [],
   "source": []
  },
  {
   "cell_type": "markdown",
   "id": "05a40ebc",
   "metadata": {},
   "source": [
    "## cartesian"
   ]
  },
  {
   "cell_type": "code",
   "execution_count": 35,
   "id": "6e941276",
   "metadata": {},
   "outputs": [
    {
     "data": {
      "text/plain": [
       "[('LiLei', 'HanMeiMei'),\n",
       " ('LiLei', 'Lily'),\n",
       " ('Tom', 'HanMeiMei'),\n",
       " ('Tom', 'Lily')]"
      ]
     },
     "execution_count": 35,
     "metadata": {},
     "output_type": "execute_result"
    }
   ],
   "source": [
    "#cartesian笛卡尔积\n",
    "boys = sc.parallelize([\"LiLei\",\"Tom\"])\n",
    "girls = sc.parallelize([\"HanMeiMei\",\"Lily\"])\n",
    "boys.cartesian(girls).collect()"
   ]
  },
  {
   "cell_type": "code",
   "execution_count": null,
   "id": "570ab3b2",
   "metadata": {},
   "outputs": [],
   "source": []
  },
  {
   "cell_type": "markdown",
   "id": "ec9559f3",
   "metadata": {},
   "source": [
    "## SortBy"
   ]
  },
  {
   "cell_type": "code",
   "execution_count": 36,
   "id": "e7f2cbc9",
   "metadata": {},
   "outputs": [
    {
     "data": {
      "text/plain": [
       "[(4, 1, 1), (3, 2, 2), (1, 2, 3)]"
      ]
     },
     "execution_count": 36,
     "metadata": {},
     "output_type": "execute_result"
    }
   ],
   "source": [
    "#按照某种方式进行排序\n",
    "#指定按照第3个元素大小进行排序\n",
    "rdd = sc.parallelize([(1,2,3),(3,2,2),(4,1,1)])\n",
    "rdd.sortBy(lambda x:x[2]).collect()"
   ]
  },
  {
   "cell_type": "code",
   "execution_count": null,
   "id": "56d3085e",
   "metadata": {},
   "outputs": [],
   "source": []
  },
  {
   "cell_type": "markdown",
   "id": "e32aa1d3",
   "metadata": {},
   "source": [
    "## zip"
   ]
  },
  {
   "cell_type": "code",
   "execution_count": 37,
   "id": "c504ed4b",
   "metadata": {},
   "outputs": [
    {
     "name": "stdout",
     "output_type": "stream",
     "text": [
      "[('LiLei', 19), ('Hanmeimei', 18), ('Lily', 20)]\n"
     ]
    }
   ],
   "source": [
    "#按照拉链方式连接两个RDD，效果类似python的zip函数\n",
    "#需要两个RDD具有相同的分区，每个分区元素数量相同\n",
    "\n",
    "rdd_name = sc.parallelize([\"LiLei\",\"Hanmeimei\",\"Lily\"])\n",
    "rdd_age = sc.parallelize([19,18,20])\n",
    "\n",
    "rdd_zip = rdd_name.zip(rdd_age)\n",
    "print(rdd_zip.collect())"
   ]
  },
  {
   "cell_type": "code",
   "execution_count": null,
   "id": "ece8d11f",
   "metadata": {},
   "outputs": [],
   "source": []
  },
  {
   "cell_type": "markdown",
   "id": "0cf15df5",
   "metadata": {},
   "source": [
    "## zipWithIndex"
   ]
  },
  {
   "cell_type": "code",
   "execution_count": 38,
   "id": "a781aa3a",
   "metadata": {},
   "outputs": [
    {
     "name": "stdout",
     "output_type": "stream",
     "text": [
      "[('LiLei', 0), ('Hanmeimei', 1), ('Lily', 2), ('Lucy', 3), ('Ann', 4), ('Dachui', 5), ('RuHua', 6)]\n"
     ]
    }
   ],
   "source": [
    "#将RDD和一个从0开始的递增序列按照拉链方式连接。\n",
    "rdd_name =  sc.parallelize([\"LiLei\",\"Hanmeimei\",\"Lily\",\"Lucy\",\"Ann\",\"Dachui\",\"RuHua\"])\n",
    "rdd_index = rdd_name.zipWithIndex()\n",
    "print(rdd_index.collect())"
   ]
  },
  {
   "cell_type": "code",
   "execution_count": null,
   "id": "d7c0c090",
   "metadata": {},
   "outputs": [],
   "source": []
  },
  {
   "cell_type": "code",
   "execution_count": null,
   "id": "1b673174",
   "metadata": {},
   "outputs": [],
   "source": []
  },
  {
   "cell_type": "markdown",
   "id": "0a2ac8e6",
   "metadata": {},
   "source": [
    "# 常用PairRDD的转换操作"
   ]
  },
  {
   "cell_type": "markdown",
   "id": "b71bb4dc",
   "metadata": {},
   "source": [
    "PairRDD指的是数据为长度为2的tuple类似(k,v)结构的数据类型的RDD,其每个数据的第一个元素被当做key，第二个元素被当做value."
   ]
  },
  {
   "cell_type": "code",
   "execution_count": null,
   "id": "74a44437",
   "metadata": {},
   "outputs": [],
   "source": []
  },
  {
   "cell_type": "code",
   "execution_count": null,
   "id": "379d40cb",
   "metadata": {},
   "outputs": [],
   "source": []
  },
  {
   "cell_type": "code",
   "execution_count": null,
   "id": "8eb86520",
   "metadata": {},
   "outputs": [],
   "source": []
  },
  {
   "cell_type": "code",
   "execution_count": null,
   "id": "fa5d966f",
   "metadata": {},
   "outputs": [],
   "source": []
  },
  {
   "cell_type": "markdown",
   "id": "7f9ac6d9",
   "metadata": {},
   "source": [
    "# 缓存操作"
   ]
  },
  {
   "cell_type": "markdown",
   "id": "008dc18d",
   "metadata": {},
   "source": [
    "如果一个rdd被多个任务用作中间量，那么对其进行cache缓存到内存中对加快计算会非常有帮助。\n",
    "\n",
    "声明对一个rdd进行cache后，该rdd不会被立即缓存，而是等到它第一次被计算出来时才进行缓存。\n",
    "\n",
    "可以使用persist明确指定存储级别，常用的存储级别是MEMORY_ONLY和EMORY_AND_DISK。\n",
    "\n",
    "如果一个RDD后面不再用到，可以用unpersist释放缓存，unpersist是立即执行的。\n",
    "\n",
    "缓存数据不会切断血缘依赖关系，这是因为缓存数据某些分区所在的节点有可能会有故障，例如内存溢出或者节点损坏。\n",
    "\n",
    "这时候可以根据血缘关系重新计算这个分区的数据。"
   ]
  },
  {
   "cell_type": "code",
   "execution_count": null,
   "id": "2df70bfb",
   "metadata": {},
   "outputs": [],
   "source": []
  },
  {
   "cell_type": "code",
   "execution_count": null,
   "id": "f5e53121",
   "metadata": {},
   "outputs": [],
   "source": []
  },
  {
   "cell_type": "code",
   "execution_count": null,
   "id": "284ccbbc",
   "metadata": {},
   "outputs": [],
   "source": []
  },
  {
   "cell_type": "code",
   "execution_count": null,
   "id": "f068dfaf",
   "metadata": {},
   "outputs": [],
   "source": []
  },
  {
   "cell_type": "code",
   "execution_count": null,
   "id": "0c9836a9",
   "metadata": {},
   "outputs": [],
   "source": []
  },
  {
   "cell_type": "markdown",
   "id": "744bbf6c",
   "metadata": {},
   "source": [
    "# 共享变量"
   ]
  },
  {
   "cell_type": "markdown",
   "id": "fce34233",
   "metadata": {},
   "source": [
    "当spark集群在许多节点上运行一个函数时，默认情况下会把这个函数涉及到的对象在每个节点生成一个副本。\n",
    "\n",
    "但是，有时候需要在不同节点或者节点和Driver之间共享变量。\n",
    "\n",
    "Spark提供两种类型的共享变量，广播变量和累加器。\n",
    "\n",
    "广播变量是不可变变量，实现在不同节点不同任务之间共享数据。\n",
    "\n",
    "广播变量在每个机器上缓存一个只读的变量，而不是为每个task生成一个副本，可以减少数据的传输。\n",
    "\n",
    "累加器主要是不同节点和Driver之间共享变量，只能实现计数或者累加功能。\n",
    "\n",
    "累加器的值只有在Driver上是可读的，在节点上不可见。"
   ]
  },
  {
   "cell_type": "code",
   "execution_count": null,
   "id": "09051bda",
   "metadata": {},
   "outputs": [],
   "source": []
  },
  {
   "cell_type": "code",
   "execution_count": null,
   "id": "d51a7eec",
   "metadata": {},
   "outputs": [],
   "source": []
  },
  {
   "cell_type": "code",
   "execution_count": null,
   "id": "3b2a1264",
   "metadata": {},
   "outputs": [],
   "source": []
  },
  {
   "cell_type": "code",
   "execution_count": null,
   "id": "9d566a49",
   "metadata": {},
   "outputs": [],
   "source": []
  },
  {
   "cell_type": "code",
   "execution_count": null,
   "id": "2561480d",
   "metadata": {},
   "outputs": [],
   "source": []
  },
  {
   "cell_type": "markdown",
   "id": "603957d7",
   "metadata": {},
   "source": [
    "# 分区操作"
   ]
  },
  {
   "cell_type": "markdown",
   "id": "65d2f8f6",
   "metadata": {},
   "source": [
    "分区操作包括改变分区操作，以及针对分区执行的一些转换操作。\n",
    "\n",
    "glom：将一个分区内的数据转换为一个列表作为一行。\n",
    "\n",
    "coalesce：shuffle可选，默认为False情况下窄依赖，不能增加分区。repartition和partitionBy调用它实现。\n",
    "\n",
    "repartition：按随机数进行shuffle，相同key不一定在同一个分区\n",
    "\n",
    "partitionBy：按key进行shuffle，相同key放入同一个分区\n",
    "\n",
    "HashPartitioner：默认分区器，根据key的hash值进行分区，相同的key进入同一分区，效率较高，key不可为Array.\n",
    "\n",
    "RangePartitioner：只在排序相关函数中使用，除相同的key进入同一分区，相邻的key也会进入同一分区，key必须可排序。\n",
    "\n",
    "TaskContext: 获取当前分区id方法 TaskContext.get.partitionId\n",
    "\n",
    "mapPartitions：每次处理分区内的一批数据，适合需要分批处理数据的情况，比如将数据插入某个表，每批数据只需要开启一次数据库连接，大大减少了连接开支\n",
    "\n",
    "mapPartitionsWithIndex：类似mapPartitions，提供了分区索引，输入参数为（i，Iterator）\n",
    "\n",
    "foreachPartition：类似foreach，但每次提供一个Partition的一批数据"
   ]
  },
  {
   "cell_type": "code",
   "execution_count": null,
   "id": "ebc2bd50",
   "metadata": {},
   "outputs": [],
   "source": []
  },
  {
   "cell_type": "code",
   "execution_count": null,
   "id": "c9c08ebd",
   "metadata": {},
   "outputs": [],
   "source": []
  },
  {
   "cell_type": "code",
   "execution_count": null,
   "id": "11737518",
   "metadata": {},
   "outputs": [],
   "source": []
  }
 ],
 "metadata": {
  "kernelspec": {
   "display_name": "Python 3 (ipykernel)",
   "language": "python",
   "name": "python3"
  },
  "language_info": {
   "codemirror_mode": {
    "name": "ipython",
    "version": 3
   },
   "file_extension": ".py",
   "mimetype": "text/x-python",
   "name": "python",
   "nbconvert_exporter": "python",
   "pygments_lexer": "ipython3",
   "version": "3.8.20"
  },
  "toc": {
   "base_numbering": 1,
   "nav_menu": {},
   "number_sections": true,
   "sideBar": true,
   "skip_h1_title": false,
   "title_cell": "Table of Contents",
   "title_sidebar": "Contents",
   "toc_cell": false,
   "toc_position": {
    "height": "calc(100% - 180px)",
    "left": "10px",
    "top": "150px",
    "width": "339.333px"
   },
   "toc_section_display": true,
   "toc_window_display": true
  }
 },
 "nbformat": 4,
 "nbformat_minor": 5
}
