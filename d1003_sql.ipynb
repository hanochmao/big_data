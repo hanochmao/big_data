{
 "cells": [
  {
   "cell_type": "markdown",
   "id": "2c7cc4c8",
   "metadata": {},
   "source": [
    "本节将介绍SparkSQL编程基本概念和基本用法。\n",
    "\n",
    "不同于RDD编程的命令式编程范式，SparkSQL编程是一种声明式编程范式，我们可以通过SQL语句或者调用DataFrame的相关API描述我们想要实现的操作。\n",
    "\n",
    "然后Spark会将我们的描述进行语法解析，找到相应的执行计划并对其进行流程优化，然后调用相应基础命令进行执行。\n",
    "\n",
    "我们使用pyspark进行RDD编程时，在Excutor上跑的很多时候就是Python代码，当然，少数时候也会跑java字节码。\n",
    "\n",
    "但我们使用pyspark进行SparkSQL编程时，在Excutor上跑的全部是java字节码，pyspark在Driver端就将相应的Python代码转换成了java任务然后放到Excutor上执行。\n",
    "\n",
    "因此，使用SparkSQL的编程范式进行编程，我们能够取得几乎和直接使用scala/java进行编程相当的效率(忽略语法解析时间差异)。此外SparkSQL提供了非常方便的数据读写API，我们可以用它和Hive表，HDFS，mysql表，Cassandra，Hbase等各种存储媒介进行数据交换。\n",
    "\n",
    "美中不足的是，SparkSQL的灵活性会稍差一些，其默认支持的数据类型通常只有 Int,Long,Float,Double,String,Boolean 等这些标准SQL数据类型, 类型扩展相对繁琐。对于一些较为SQL中不直接支持的功能，通常可以借助于用户自定义函数(UDF)来实现，如果功能更加复杂，则可以转成RDD来进行实现。"
   ]
  },
  {
   "cell_type": "markdown",
   "id": "513626cc",
   "metadata": {},
   "source": [
    "# RDD和DataFrame的对比"
   ]
  },
  {
   "cell_type": "code",
   "execution_count": 1,
   "id": "0f609301",
   "metadata": {},
   "outputs": [],
   "source": [
    "import findspark\n",
    "\n",
    "#指定spark_home为刚才的解压路径,指定python路径\n",
    "spark_home = \"D:/Install/Spark3/spark-3.0.0-bin-hadoop3.2\"\n",
    "#python对应虚拟环境中解释器\n",
    "python_path = \"D:/Install/Anaconda/envs/xpyspark/python\"\n",
    "findspark.init(spark_home,python_path)"
   ]
  },
  {
   "cell_type": "code",
   "execution_count": 2,
   "id": "60b21e50",
   "metadata": {},
   "outputs": [],
   "source": [
    "import pyspark \n",
    "from pyspark.sql import SparkSession\n",
    "\n",
    "#SparkSQL的许多功能封装在SparkSession的方法接口中\n",
    "\n",
    "spark = SparkSession.builder \\\n",
    "        .appName(\"test\") \\\n",
    "        .config(\"master\",\"local[4]\") \\\n",
    "        .enableHiveSupport() \\\n",
    "        .getOrCreate()\n",
    "\n",
    "sc = spark.sparkContext"
   ]
  },
  {
   "cell_type": "markdown",
   "id": "9010dbc1",
   "metadata": {},
   "source": [
    "DataFrame参照了Pandas的思想，在RDD基础上增加了schma，能够获取列名信息。\n",
    "\n",
    "DataSet在DataFrame基础上进一步增加了数据类型信息，可以在编译时发现类型错误。\n",
    "\n",
    "DataFrame可以看成DataSet[Row]，两者的API接口完全相同。\n",
    "\n",
    "DataFrame和DataSet都支持SQL交互式查询，可以和 Hive无缝衔接。\n",
    "\n",
    "DataSet只有Scala语言和Java语言接口中才支持，在Python和R语言接口只支持DataFrame。\n",
    "\n",
    "DataFrame数据结构本质上是通过RDD来实现的，但是RDD是一种行存储的数据结构，而DataFrame是一种列存储的数据结构。"
   ]
  },
  {
   "cell_type": "code",
   "execution_count": null,
   "id": "ae172c2a",
   "metadata": {},
   "outputs": [],
   "source": []
  },
  {
   "cell_type": "markdown",
   "id": "88d22e75",
   "metadata": {},
   "source": [
    "# 创建DataFrame"
   ]
  },
  {
   "cell_type": "markdown",
   "id": "f9b78821",
   "metadata": {},
   "source": [
    "## 通过toDF方法转换成DataFrame"
   ]
  },
  {
   "cell_type": "code",
   "execution_count": 3,
   "id": "9776d57c",
   "metadata": {},
   "outputs": [
    {
     "name": "stdout",
     "output_type": "stream",
     "text": [
      "+---------+---+-----+\n",
      "|     name|age|score|\n",
      "+---------+---+-----+\n",
      "|    LiLei| 15|   88|\n",
      "|HanMeiMei| 16|   90|\n",
      "|   DaChui| 17|   60|\n",
      "+---------+---+-----+\n",
      "\n",
      "root\n",
      " |-- name: string (nullable = true)\n",
      " |-- age: long (nullable = true)\n",
      " |-- score: long (nullable = true)\n",
      "\n"
     ]
    }
   ],
   "source": [
    "\n",
    "#将RDD转换成DataFrame\n",
    "rdd = sc.parallelize([(\"LiLei\",15,88),(\"HanMeiMei\",16,90),(\"DaChui\",17,60)])\n",
    "df = rdd.toDF([\"name\",\"age\",\"score\"])\n",
    "df.show()\n",
    "df.printSchema()"
   ]
  },
  {
   "cell_type": "code",
   "execution_count": null,
   "id": "d5835f05",
   "metadata": {},
   "outputs": [],
   "source": []
  },
  {
   "cell_type": "markdown",
   "id": "80a2b4a9",
   "metadata": {},
   "source": [
    "## 通过createDataFrame方法将Pandas.DataFrame转换成pyspark中的DataFrame"
   ]
  },
  {
   "cell_type": "code",
   "execution_count": 11,
   "id": "f4cf540f",
   "metadata": {},
   "outputs": [
    {
     "name": "stdout",
     "output_type": "stream",
     "text": [
      "+---------+---+\n",
      "|     name|age|\n",
      "+---------+---+\n",
      "|    LiLei| 18|\n",
      "|HanMeiMei| 17|\n",
      "+---------+---+\n",
      "\n"
     ]
    }
   ],
   "source": [
    "import pandas as pd \n",
    "from pyspark.sql.types import StructType, StructField, StringType, IntegerType\n",
    "\n",
    "pdf = pd.DataFrame([(\"LiLei\",18),(\"HanMeiMei\",17)],columns = [\"name\",\"age\"])\n",
    "\n",
    "# 定义 schema\n",
    "schema = StructType([\n",
    "    StructField(\"name\", StringType(), True),\n",
    "    StructField(\"age\", IntegerType(), True)\n",
    "])\n",
    "\n",
    "\n",
    "\n",
    "df = spark.createDataFrame(pdf,schema=schema)\n",
    "df.show()"
   ]
  },
  {
   "cell_type": "code",
   "execution_count": null,
   "id": "1487d565",
   "metadata": {},
   "outputs": [],
   "source": []
  },
  {
   "cell_type": "code",
   "execution_count": 6,
   "id": "8dd63f29",
   "metadata": {},
   "outputs": [
    {
     "name": "stdout",
     "output_type": "stream",
     "text": [
      "2.0.3\n",
      "3.0.0\n"
     ]
    }
   ],
   "source": [
    "import pandas as pd\n",
    "import pyspark\n",
    "print(pd.__version__)\n",
    "print(pyspark.__version__)"
   ]
  },
  {
   "cell_type": "markdown",
   "id": "736004d2",
   "metadata": {},
   "source": [
    "## 列表直接转换"
   ]
  },
  {
   "cell_type": "code",
   "execution_count": 12,
   "id": "f6ab6ba8",
   "metadata": {},
   "outputs": [
    {
     "name": "stdout",
     "output_type": "stream",
     "text": [
      "+---------+---+\n",
      "|     name|age|\n",
      "+---------+---+\n",
      "|    LiLei| 18|\n",
      "|HanMeiMei| 17|\n",
      "+---------+---+\n",
      "\n"
     ]
    }
   ],
   "source": [
    "# 也可以对列表直接转换\n",
    "values = [(\"LiLei\",18),(\"HanMeiMei\",17)]\n",
    "df = spark.createDataFrame(values,[\"name\",\"age\"])\n",
    "df.show()"
   ]
  },
  {
   "cell_type": "code",
   "execution_count": null,
   "id": "82521756",
   "metadata": {},
   "outputs": [],
   "source": []
  },
  {
   "cell_type": "markdown",
   "id": "fde0e743",
   "metadata": {},
   "source": [
    "## 通过createDataFrame方法指定schema动态创建DataFrame"
   ]
  },
  {
   "cell_type": "markdown",
   "id": "c09bd333",
   "metadata": {},
   "source": [
    "可以通过createDataFrame的方法指定rdd和schema创建DataFrame。\n",
    "\n",
    "这种方法比较繁琐，但是可以在预先不知道schema和数据类型的情况下在代码中动态创建DataFrame."
   ]
  },
  {
   "cell_type": "code",
   "execution_count": 13,
   "id": "907a2b22",
   "metadata": {},
   "outputs": [
    {
     "name": "stdout",
     "output_type": "stream",
     "text": [
      "+---------+-----+----------+\n",
      "|     name|score|  birthday|\n",
      "+---------+-----+----------+\n",
      "|    LiLei|   87|2010-01-05|\n",
      "|HanMeiMei|   90|2009-03-01|\n",
      "|   DaChui| null|2008-07-02|\n",
      "+---------+-----+----------+\n",
      "\n"
     ]
    }
   ],
   "source": [
    "from pyspark.sql.types import *\n",
    "from pyspark.sql import Row\n",
    "from datetime import datetime\n",
    "\n",
    "schema = StructType([StructField(\"name\", StringType(), nullable = False),\n",
    "                     StructField(\"score\", IntegerType(), nullable = True),\n",
    "                     StructField(\"birthday\", DateType(), nullable = True)])\n",
    "\n",
    "rdd = sc.parallelize([Row(\"LiLei\",87,datetime(2010,1,5)),\n",
    "                      Row(\"HanMeiMei\",90,datetime(2009,3,1)),\n",
    "                      Row(\"DaChui\",None,datetime(2008,7,2))])\n",
    "\n",
    "dfstudent = spark.createDataFrame(rdd, schema)\n",
    "\n",
    "dfstudent.show()"
   ]
  },
  {
   "cell_type": "code",
   "execution_count": null,
   "id": "d3aee2e0",
   "metadata": {},
   "outputs": [],
   "source": []
  },
  {
   "cell_type": "markdown",
   "id": "dcc9db52",
   "metadata": {},
   "source": [
    "## 通过读取文件创建"
   ]
  },
  {
   "cell_type": "markdown",
   "id": "dac45868",
   "metadata": {},
   "source": [
    "可以读取json文件，csv文件，hive数据表或者mysql数据表得到DataFrame。"
   ]
  },
  {
   "cell_type": "code",
   "execution_count": 14,
   "id": "afac82fe",
   "metadata": {},
   "outputs": [
    {
     "name": "stdout",
     "output_type": "stream",
     "text": [
      "+----+-------+\n",
      "| age|   name|\n",
      "+----+-------+\n",
      "|null|Michael|\n",
      "|  30|   Andy|\n",
      "|  19| Justin|\n",
      "+----+-------+\n",
      "\n"
     ]
    }
   ],
   "source": [
    "#读取json文件生成DataFrame\n",
    "df = spark.read.json(\"./data/people.json\")\n",
    "df.show()"
   ]
  },
  {
   "cell_type": "code",
   "execution_count": 15,
   "id": "782261be",
   "metadata": {},
   "outputs": [
    {
     "name": "stdout",
     "output_type": "stream",
     "text": [
      "+-----------+----------+-----------+----------+-----+\n",
      "|sepallength|sepalwidth|petallength|petalwidth|label|\n",
      "+-----------+----------+-----------+----------+-----+\n",
      "|        5.1|       3.5|        1.4|       0.2|    0|\n",
      "|        4.9|       3.0|        1.4|       0.2|    0|\n",
      "|        4.7|       3.2|        1.3|       0.2|    0|\n",
      "|        4.6|       3.1|        1.5|       0.2|    0|\n",
      "|        5.0|       3.6|        1.4|       0.2|    0|\n",
      "+-----------+----------+-----------+----------+-----+\n",
      "only showing top 5 rows\n",
      "\n",
      "root\n",
      " |-- sepallength: double (nullable = true)\n",
      " |-- sepalwidth: double (nullable = true)\n",
      " |-- petallength: double (nullable = true)\n",
      " |-- petalwidth: double (nullable = true)\n",
      " |-- label: integer (nullable = true)\n",
      "\n"
     ]
    }
   ],
   "source": [
    "#读取csv文件\n",
    "df = spark.read.option(\"header\",\"true\") \\\n",
    " .option(\"inferSchema\",\"true\") \\\n",
    " .option(\"delimiter\", \",\") \\\n",
    " .csv(\"./data/iris.csv\")\n",
    "df.show(5)\n",
    "df.printSchema()"
   ]
  },
  {
   "cell_type": "code",
   "execution_count": null,
   "id": "e0c22acd",
   "metadata": {},
   "outputs": [],
   "source": []
  },
  {
   "cell_type": "code",
   "execution_count": 16,
   "id": "687b6104",
   "metadata": {},
   "outputs": [
    {
     "name": "stdout",
     "output_type": "stream",
     "text": [
      "+-----------+----------+-----------+----------+-----+\n",
      "|sepallength|sepalwidth|petallength|petalwidth|label|\n",
      "+-----------+----------+-----------+----------+-----+\n",
      "|        5.1|       3.5|        1.4|       0.2|    0|\n",
      "|        4.9|       3.0|        1.4|       0.2|    0|\n",
      "|        4.7|       3.2|        1.3|       0.2|    0|\n",
      "|        4.6|       3.1|        1.5|       0.2|    0|\n",
      "|        5.0|       3.6|        1.4|       0.2|    0|\n",
      "+-----------+----------+-----------+----------+-----+\n",
      "only showing top 5 rows\n",
      "\n",
      "root\n",
      " |-- sepallength: double (nullable = true)\n",
      " |-- sepalwidth: double (nullable = true)\n",
      " |-- petallength: double (nullable = true)\n",
      " |-- petalwidth: double (nullable = true)\n",
      " |-- label: integer (nullable = true)\n",
      "\n"
     ]
    }
   ],
   "source": [
    "#读取csv文件\n",
    "df = spark.read.format(\"com.databricks.spark.csv\") \\\n",
    " .option(\"header\",\"true\") \\\n",
    " .option(\"inferSchema\",\"true\") \\\n",
    " .option(\"delimiter\", \",\") \\\n",
    " .load(\"./data/iris.csv\")\n",
    "df.show(5)\n",
    "df.printSchema()"
   ]
  },
  {
   "cell_type": "code",
   "execution_count": 17,
   "id": "5718735e",
   "metadata": {},
   "outputs": [
    {
     "name": "stdout",
     "output_type": "stream",
     "text": [
      "+------+--------------+----------------+\n",
      "|  name|favorite_color|favorite_numbers|\n",
      "+------+--------------+----------------+\n",
      "|Alyssa|          null|  [3, 9, 15, 20]|\n",
      "|   Ben|           red|              []|\n",
      "+------+--------------+----------------+\n",
      "\n"
     ]
    }
   ],
   "source": [
    "#读取parquet文件\n",
    "df = spark.read.parquet(\"./data/users.parquet\")\n",
    "df.show()"
   ]
  },
  {
   "cell_type": "code",
   "execution_count": null,
   "id": "414082c9",
   "metadata": {},
   "outputs": [],
   "source": []
  },
  {
   "cell_type": "code",
   "execution_count": null,
   "id": "62f1d6d7",
   "metadata": {},
   "outputs": [],
   "source": []
  }
 ],
 "metadata": {
  "kernelspec": {
   "display_name": "Python 3 (ipykernel)",
   "language": "python",
   "name": "python3"
  },
  "language_info": {
   "codemirror_mode": {
    "name": "ipython",
    "version": 3
   },
   "file_extension": ".py",
   "mimetype": "text/x-python",
   "name": "python",
   "nbconvert_exporter": "python",
   "pygments_lexer": "ipython3",
   "version": "3.8.20"
  },
  "toc": {
   "base_numbering": 1,
   "nav_menu": {},
   "number_sections": true,
   "sideBar": true,
   "skip_h1_title": false,
   "title_cell": "Table of Contents",
   "title_sidebar": "Contents",
   "toc_cell": false,
   "toc_position": {},
   "toc_section_display": true,
   "toc_window_display": true
  }
 },
 "nbformat": 4,
 "nbformat_minor": 5
}
