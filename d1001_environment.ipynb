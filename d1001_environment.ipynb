{
 "cells": [
  {
   "cell_type": "markdown",
   "id": "555b1bd1",
   "metadata": {},
   "source": [
    "# 环境搭建"
   ]
  },
  {
   "cell_type": "markdown",
   "id": "765aded1",
   "metadata": {},
   "source": [
    "安装jdk1.8并配置环境变量"
   ]
  },
  {
   "cell_type": "markdown",
   "id": "781ec0d5",
   "metadata": {},
   "source": [
    "下载win版spark安装包\n",
    "https://www.oracle.com/java/technologies/downloads/#java8-windows"
   ]
  },
  {
   "cell_type": "markdown",
   "id": "6336c4c3",
   "metadata": {},
   "source": [
    "创建虚拟环境xspark\n",
    "pip install findspark\n",
    "pip install pyspark"
   ]
  },
  {
   "cell_type": "code",
   "execution_count": null,
   "id": "81180e4b",
   "metadata": {},
   "outputs": [],
   "source": []
  },
  {
   "cell_type": "markdown",
   "id": "84c5fed5",
   "metadata": {},
   "source": [
    "# 验证"
   ]
  },
  {
   "cell_type": "code",
   "execution_count": 1,
   "id": "47ae4f92",
   "metadata": {},
   "outputs": [],
   "source": [
    "import findspark\n",
    "\n",
    "#指定spark_home为刚才的解压路径,指定python路径\n",
    "spark_home = \"D:/Install/Spark3/spark-3.0.0-bin-hadoop3.2\"\n",
    "#python对应虚拟环境中解释器\n",
    "python_path = \"D:/Install/Anaconda/envs/xpyspark/python\"\n",
    "findspark.init(spark_home,python_path)"
   ]
  },
  {
   "cell_type": "code",
   "execution_count": 2,
   "id": "d28cc6ed",
   "metadata": {},
   "outputs": [],
   "source": [
    "import pyspark \n",
    "from pyspark import SparkContext, SparkConf\n",
    "conf = SparkConf().setAppName(\"test\").setMaster(\"local[4]\")\n",
    "sc = SparkContext(conf=conf)"
   ]
  },
  {
   "cell_type": "code",
   "execution_count": 3,
   "id": "9b449222",
   "metadata": {},
   "outputs": [
    {
     "name": "stdout",
     "output_type": "stream",
     "text": [
      "spark version: 3.0.0\n",
      "hello spark\n"
     ]
    }
   ],
   "source": [
    "print(\"spark version:\",pyspark.__version__)\n",
    "rdd = sc.parallelize([\"hello\",\"spark\"])\n",
    "print(rdd.reduce(lambda x,y:x+' '+y))"
   ]
  },
  {
   "cell_type": "code",
   "execution_count": null,
   "id": "6a1b761f-1228-4a2f-bf84-beb94db05ecd",
   "metadata": {},
   "outputs": [],
   "source": []
  },
  {
   "cell_type": "code",
   "execution_count": 4,
   "id": "2f3ab5c9-4f7b-4cad-97da-48de6399ba3a",
   "metadata": {},
   "outputs": [
    {
     "data": {
      "text/plain": [
       "[('', 1),\n",
       " ('go', 1),\n",
       " ('parterner', 1),\n",
       " ('will', 2),\n",
       " ('coming', 1),\n",
       " ('soon', 1),\n",
       " ('I', 1),\n",
       " ('to', 1),\n",
       " ('china', 1)]"
      ]
     },
     "execution_count": 4,
     "metadata": {},
     "output_type": "execute_result"
    }
   ],
   "source": [
    "rdd_line = sc.textFile(\"./data/hello.txt\")\n",
    "rdd_word = rdd_line.flatMap(lambda x:x.split(\" \"))\n",
    "rdd_one = rdd_word.map(lambda t:(t,1))\n",
    "rdd_count = rdd_one.reduceByKey(lambda x,y:x+y)\n",
    "rdd_count.collect() "
   ]
  },
  {
   "cell_type": "code",
   "execution_count": null,
   "id": "a9ba2dc9-c348-4a3e-a49b-eb0b304b08c3",
   "metadata": {},
   "outputs": [],
   "source": []
  },
  {
   "cell_type": "code",
   "execution_count": null,
   "id": "5453db78",
   "metadata": {},
   "outputs": [],
   "source": []
  }
 ],
 "metadata": {
  "kernelspec": {
   "display_name": "Python 3 (ipykernel)",
   "language": "python",
   "name": "python3"
  },
  "language_info": {
   "codemirror_mode": {
    "name": "ipython",
    "version": 3
   },
   "file_extension": ".py",
   "mimetype": "text/x-python",
   "name": "python",
   "nbconvert_exporter": "python",
   "pygments_lexer": "ipython3",
   "version": "3.8.20"
  },
  "toc": {
   "base_numbering": 1,
   "nav_menu": {},
   "number_sections": true,
   "sideBar": true,
   "skip_h1_title": false,
   "title_cell": "Table of Contents",
   "title_sidebar": "Contents",
   "toc_cell": false,
   "toc_position": {},
   "toc_section_display": true,
   "toc_window_display": false
  }
 },
 "nbformat": 4,
 "nbformat_minor": 5
}
